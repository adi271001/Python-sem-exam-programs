{
 "cells": [
  {
   "cell_type": "markdown",
   "id": "7c374191",
   "metadata": {},
   "source": [
    "# MODULE 1"
   ]
  },
  {
   "cell_type": "markdown",
   "id": "cd0f98c0",
   "metadata": {},
   "source": [
    "# Printing hello world"
   ]
  },
  {
   "cell_type": "code",
   "execution_count": 4,
   "id": "474f0cf6",
   "metadata": {},
   "outputs": [
    {
     "name": "stdout",
     "output_type": "stream",
     "text": [
      "hello world\n"
     ]
    }
   ],
   "source": [
    "print(\"hello world\")"
   ]
  },
  {
   "cell_type": "code",
   "execution_count": 2,
   "id": "bf303b58",
   "metadata": {},
   "outputs": [
    {
     "data": {
      "text/plain": [
       "[0, 1, 2]"
      ]
     },
     "execution_count": 2,
     "metadata": {},
     "output_type": "execute_result"
    }
   ],
   "source": [
    "x=[0,1,2]\n",
    "x"
   ]
  },
  {
   "cell_type": "markdown",
   "id": "81a4095d",
   "metadata": {},
   "source": [
    "# Error while declaring variable"
   ]
  },
  {
   "cell_type": "code",
   "execution_count": 5,
   "id": "cf277ef6",
   "metadata": {},
   "outputs": [
    {
     "ename": "SyntaxError",
     "evalue": "invalid syntax (<ipython-input-5-7067da38dead>, line 1)",
     "output_type": "error",
     "traceback": [
      "\u001b[1;36m  File \u001b[1;32m\"<ipython-input-5-7067da38dead>\"\u001b[1;36m, line \u001b[1;32m1\u001b[0m\n\u001b[1;33m    76trombones='big parade'\u001b[0m\n\u001b[1;37m      ^\u001b[0m\n\u001b[1;31mSyntaxError\u001b[0m\u001b[1;31m:\u001b[0m invalid syntax\n"
     ]
    }
   ],
   "source": [
    "76trombones='big parade'"
   ]
  },
  {
   "cell_type": "markdown",
   "id": "d07200f3",
   "metadata": {},
   "source": [
    "# Fahrenheit to Celsius"
   ]
  },
  {
   "cell_type": "code",
   "execution_count": 3,
   "id": "67971140",
   "metadata": {},
   "outputs": [
    {
     "name": "stdout",
     "output_type": "stream",
     "text": [
      "enter temp in fahrenheit98.6\n",
      "37.0\n"
     ]
    }
   ],
   "source": [
    "imp=input('enter temp in fahrenheit')\n",
    "fahr=float(imp)\n",
    "cel=(fahr-32.0)*5.0/9.0\n",
    "print(cel)"
   ]
  },
  {
   "cell_type": "markdown",
   "id": "79ae8a8e",
   "metadata": {},
   "source": [
    "# Logarithm of base 10"
   ]
  },
  {
   "cell_type": "code",
   "execution_count": 8,
   "id": "4f483376",
   "metadata": {},
   "outputs": [
    {
     "name": "stdout",
     "output_type": "stream",
     "text": [
      "20.75\n",
      "65.24\n",
      "-4.974958513201266\n"
     ]
    }
   ],
   "source": [
    "import math as math\n",
    "from math import *\n",
    "sig_power=float(input())\n",
    "noi_power=float(input())\n",
    "ratio=sig_power/noi_power\n",
    "decib=10* math.log10(ratio)\n",
    "print(decib)"
   ]
  },
  {
   "cell_type": "markdown",
   "id": "709cecc0",
   "metadata": {},
   "source": [
    "# Degrees to Radians"
   ]
  },
  {
   "cell_type": "code",
   "execution_count": 9,
   "id": "bec9a69c",
   "metadata": {},
   "outputs": [
    {
     "name": "stdout",
     "output_type": "stream",
     "text": [
      "48.25\n",
      "0.842121364087264\n",
      "0.7460573750616994\n"
     ]
    }
   ],
   "source": [
    "import math as math\n",
    "degress=float(input())\n",
    "rad=degress/360.0*2*math.pi\n",
    "ans=math.sin(rad)\n",
    "print(rad)\n",
    "print(ans)"
   ]
  },
  {
   "cell_type": "markdown",
   "id": "464feea0",
   "metadata": {},
   "source": [
    "# Project: Guess the number"
   ]
  },
  {
   "cell_type": "code",
   "execution_count": 14,
   "id": "d163e9de",
   "metadata": {},
   "outputs": [
    {
     "name": "stdout",
     "output_type": "stream",
     "text": [
      "i am thinking of a number between 1 and 20\n",
      "Take a Guess\n",
      "13\n",
      "Good Job!! You Guessed My number in 1 Guesses\n"
     ]
    }
   ],
   "source": [
    "import random\n",
    "secretNumber=random.randint(1,20)\n",
    "print('i am thinking of a number between 1 and 20')\n",
    "for guessTaken in range(1,7):\n",
    "    print('Take a Guess')\n",
    "    guess=int(input())\n",
    "    if guess<secretNumber:\n",
    "        print('Your guess is too low')\n",
    "    elif guess>secretNumber:\n",
    "        print('Your guess is too high')\n",
    "    else:\n",
    "        break\n",
    "if guess==secretNumber:\n",
    "    print('Good Job!! You Guessed My number in '+str(guessTaken)+' Guesses')\n",
    "else:\n",
    "    print('Nope. The Number i was thinking of was '+str(secretNumber))"
   ]
  },
  {
   "cell_type": "markdown",
   "id": "756e8d19",
   "metadata": {},
   "source": [
    "# MODULE 2"
   ]
  },
  {
   "cell_type": "markdown",
   "id": "50ca8bcf",
   "metadata": {},
   "source": [
    "# List"
   ]
  },
  {
   "cell_type": "code",
   "execution_count": 1,
   "id": "33aa4e0b",
   "metadata": {},
   "outputs": [
    {
     "data": {
      "text/plain": [
       "'bat'"
      ]
     },
     "execution_count": 1,
     "metadata": {},
     "output_type": "execute_result"
    }
   ],
   "source": [
    "spam=['cat','bat','rat','elephant']\n",
    "spam[1]"
   ]
  },
  {
   "cell_type": "code",
   "execution_count": 2,
   "id": "858f82b9",
   "metadata": {},
   "outputs": [
    {
     "ename": "TypeError",
     "evalue": "list indices must be integers or slices, not float",
     "output_type": "error",
     "traceback": [
      "\u001b[1;31m---------------------------------------------------------------------------\u001b[0m",
      "\u001b[1;31mTypeError\u001b[0m                                 Traceback (most recent call last)",
      "\u001b[1;32m<ipython-input-2-a283f69a570a>\u001b[0m in \u001b[0;36m<module>\u001b[1;34m\u001b[0m\n\u001b[1;32m----> 1\u001b[1;33m \u001b[0mspam\u001b[0m\u001b[1;33m[\u001b[0m\u001b[1;36m1.0\u001b[0m\u001b[1;33m]\u001b[0m\u001b[1;33m\u001b[0m\u001b[1;33m\u001b[0m\u001b[0m\n\u001b[0m",
      "\u001b[1;31mTypeError\u001b[0m: list indices must be integers or slices, not float"
     ]
    }
   ],
   "source": [
    "spam[1.0]"
   ]
  },
  {
   "cell_type": "markdown",
   "id": "056ac1fc",
   "metadata": {},
   "source": [
    "# conversion of datatypes"
   ]
  },
  {
   "cell_type": "code",
   "execution_count": 3,
   "id": "7d4047a4",
   "metadata": {},
   "outputs": [
    {
     "data": {
      "text/plain": [
       "'bat'"
      ]
     },
     "execution_count": 3,
     "metadata": {},
     "output_type": "execute_result"
    }
   ],
   "source": [
    "spam[int(1.0)]"
   ]
  },
  {
   "cell_type": "markdown",
   "id": "646e5be2",
   "metadata": {},
   "source": [
    "# len function"
   ]
  },
  {
   "cell_type": "code",
   "execution_count": 6,
   "id": "359bf83a",
   "metadata": {},
   "outputs": [
    {
     "data": {
      "text/plain": [
       "4"
      ]
     },
     "execution_count": 6,
     "metadata": {},
     "output_type": "execute_result"
    }
   ],
   "source": [
    "len(spam)"
   ]
  },
  {
   "cell_type": "markdown",
   "id": "7fb26c12",
   "metadata": {},
   "source": [
    "# Concatenation"
   ]
  },
  {
   "cell_type": "code",
   "execution_count": 7,
   "id": "f14973ba",
   "metadata": {},
   "outputs": [
    {
     "data": {
      "text/plain": [
       "['cat', 'bat', 'rat', 'elephant', 'vulture', 'eagle', 'kite', 'hawk']"
      ]
     },
     "execution_count": 7,
     "metadata": {},
     "output_type": "execute_result"
    }
   ],
   "source": [
    "spam2=['vulture','eagle','kite','hawk']\n",
    "spamtotal=spam+spam2\n",
    "spamtotal"
   ]
  },
  {
   "cell_type": "markdown",
   "id": "cc6a4495",
   "metadata": {},
   "source": [
    "# Replication"
   ]
  },
  {
   "cell_type": "code",
   "execution_count": 8,
   "id": "d370d92e",
   "metadata": {},
   "outputs": [
    {
     "data": {
      "text/plain": [
       "['vulture', 'eagle', 'kite', 'hawk', 'vulture', 'eagle', 'kite', 'hawk']"
      ]
     },
     "execution_count": 8,
     "metadata": {},
     "output_type": "execute_result"
    }
   ],
   "source": [
    "spamrep=spam2*2\n",
    "spamrep"
   ]
  },
  {
   "cell_type": "markdown",
   "id": "034bfeab",
   "metadata": {},
   "source": [
    "# Sorting"
   ]
  },
  {
   "cell_type": "code",
   "execution_count": 9,
   "id": "6ae2b6c7",
   "metadata": {},
   "outputs": [
    {
     "data": {
      "text/plain": [
       "['bat', 'cat', 'elephant', 'rat']"
      ]
     },
     "execution_count": 9,
     "metadata": {},
     "output_type": "execute_result"
    }
   ],
   "source": [
    "spam.sort()\n",
    "spam"
   ]
  },
  {
   "cell_type": "markdown",
   "id": "3d0939f0",
   "metadata": {},
   "source": [
    "# Magic 8 ball with list"
   ]
  },
  {
   "cell_type": "code",
   "execution_count": 11,
   "id": "16eaa506",
   "metadata": {},
   "outputs": [
    {
     "name": "stdout",
     "output_type": "stream",
     "text": [
      "Yes definitely\n"
     ]
    }
   ],
   "source": [
    "import random\n",
    "messages = ['It is certain', 'It is decidedly so', 'Yes definitely', 'Reply hazy try again', 'Ask again later','Concentrate and ask again', 'My reply is no', 'Outlook not so good', 'Very doubtful']\n",
    "print(messages[random.randint(0, len(messages) - 1)])"
   ]
  },
  {
   "cell_type": "markdown",
   "id": "2280858e",
   "metadata": {},
   "source": [
    "# Immutablity of strings"
   ]
  },
  {
   "cell_type": "code",
   "execution_count": 12,
   "id": "cc5735c1",
   "metadata": {},
   "outputs": [
    {
     "ename": "TypeError",
     "evalue": "'str' object does not support item assignment",
     "output_type": "error",
     "traceback": [
      "\u001b[1;31m---------------------------------------------------------------------------\u001b[0m",
      "\u001b[1;31mTypeError\u001b[0m                                 Traceback (most recent call last)",
      "\u001b[1;32m<ipython-input-12-089de5a94ffe>\u001b[0m in \u001b[0;36m<module>\u001b[1;34m\u001b[0m\n\u001b[0;32m      1\u001b[0m \u001b[0mname\u001b[0m \u001b[1;33m=\u001b[0m \u001b[1;34m'Zophie a cat'\u001b[0m\u001b[1;33m\u001b[0m\u001b[1;33m\u001b[0m\u001b[0m\n\u001b[1;32m----> 2\u001b[1;33m \u001b[0mname\u001b[0m\u001b[1;33m[\u001b[0m\u001b[1;36m7\u001b[0m\u001b[1;33m]\u001b[0m \u001b[1;33m=\u001b[0m \u001b[1;34m'the'\u001b[0m\u001b[1;33m\u001b[0m\u001b[1;33m\u001b[0m\u001b[0m\n\u001b[0m",
      "\u001b[1;31mTypeError\u001b[0m: 'str' object does not support item assignment"
     ]
    }
   ],
   "source": [
    "name = 'Zophie a cat'\n",
    "name[7] = 'the'"
   ]
  },
  {
   "cell_type": "markdown",
   "id": "73d9df64",
   "metadata": {},
   "source": [
    "# Dictionary"
   ]
  },
  {
   "cell_type": "code",
   "execution_count": 14,
   "id": "9e9e135c",
   "metadata": {},
   "outputs": [
    {
     "name": "stdout",
     "output_type": "stream",
     "text": [
      "enter a name(blank to quit)\n",
      "Jazz\n",
      "Jun 10 is the Birthday of Jazz\n",
      "enter a name(blank to quit)\n",
      "Ritika\n",
      "I Do Not Have Birthday Information ForRitika\n",
      "When is their Birthday?\n",
      "Sep 29\n",
      "Birthday Database Updated\n",
      "enter a name(blank to quit)\n",
      "Ritika\n",
      "Sep 29 is the Birthday of Ritika\n",
      "enter a name(blank to quit)\n",
      "\n"
     ]
    }
   ],
   "source": [
    "birthdays={'Deethya':'Oct 12','Jazz':'Jun 10','Akshay':'Mar 2'}\n",
    "while True:\n",
    "    print('enter a name(blank to quit)')\n",
    "    name=input()\n",
    "    if name=='':\n",
    "        break\n",
    "    if name in birthdays:\n",
    "        print(birthdays[name]+' is the Birthday of '+ name)\n",
    "    else:\n",
    "        print('I Do Not Have Birthday Information For'+ name)\n",
    "        print('When is their Birthday?')\n",
    "        bday=input()\n",
    "        birthdays[name]=bday\n",
    "        print('Birthday Database Updated')\n",
    "        "
   ]
  },
  {
   "cell_type": "markdown",
   "id": "b6827da1",
   "metadata": {},
   "source": [
    "# Pretty Printing"
   ]
  },
  {
   "cell_type": "code",
   "execution_count": 16,
   "id": "84b7ecb2",
   "metadata": {},
   "outputs": [
    {
     "name": "stdout",
     "output_type": "stream",
     "text": [
      "{' ': 13,\n",
      " ',': 1,\n",
      " '.': 1,\n",
      " 'A': 1,\n",
      " 'I': 1,\n",
      " 'a': 4,\n",
      " 'b': 1,\n",
      " 'c': 3,\n",
      " 'd': 3,\n",
      " 'e': 5,\n",
      " 'g': 2,\n",
      " 'h': 3,\n",
      " 'i': 6,\n",
      " 'k': 2,\n",
      " 'l': 3,\n",
      " 'n': 4,\n",
      " 'o': 2,\n",
      " 'p': 1,\n",
      " 'r': 5,\n",
      " 's': 3,\n",
      " 't': 6,\n",
      " 'w': 2,\n",
      " 'y': 1}\n"
     ]
    }
   ],
   "source": [
    "import pprint\n",
    "message='It was a bright cold day in April, and the clocks were striking thirteen.'\n",
    "count={}\n",
    "for character in message:\n",
    "    count.setdefault(character,0)\n",
    "    count[character]=count[character]+1\n",
    "pprint.pprint(count)"
   ]
  },
  {
   "cell_type": "markdown",
   "id": "a1f14bf0",
   "metadata": {},
   "source": [
    "# Tic Tac Toe"
   ]
  },
  {
   "cell_type": "code",
   "execution_count": 2,
   "id": "f6e545b3",
   "metadata": {},
   "outputs": [
    {
     "name": "stdout",
     "output_type": "stream",
     "text": [
      "\n",
      "----------- WELCOME TO TIC TAC TOE ------------\n",
      "\n",
      "\n",
      "    │    │     \n",
      "────┼────┼────\n",
      "    │    │     \n",
      "────┼────┼────\n",
      "    │    │     \n",
      "\n",
      "Player 1 : Adi\n",
      "Player 2 : Jazz\n",
      "\n",
      "-------- Instructions ---------\n",
      "-> Adi you will using X\n",
      "-> Jazz you will using 0\n",
      "-> Turn starts from Adi\n",
      "-> Potisions are like :-\n",
      "  1 │  2 │ 3  \n",
      "────┼────┼────\n",
      "  4 │ 5  │ 6  \n",
      "────┼────┼────\n",
      "  7 │ 8  │ 9  \n",
      "-> press S to start the game\n",
      "S\n",
      "\n",
      "this is ur turn Adi\n",
      "Please Enter postion : 1\n",
      " x  │    │     \n",
      "────┼────┼────\n",
      "    │    │     \n",
      "────┼────┼────\n",
      "    │    │     \n",
      "\n",
      "this is ur turn Jazz\n",
      "Please Enter postion : 5\n",
      " x  │    │     \n",
      "────┼────┼────\n",
      "    │ 0  │     \n",
      "────┼────┼────\n",
      "    │    │     \n",
      "\n",
      "this is ur turn Adi\n",
      "Please Enter postion : 9\n",
      " x  │    │     \n",
      "────┼────┼────\n",
      "    │ 0  │     \n",
      "────┼────┼────\n",
      "    │    │  x  \n",
      "\n",
      "this is ur turn Jazz\n",
      "Please Enter postion : 7\n",
      " x  │    │     \n",
      "────┼────┼────\n",
      "    │ 0  │     \n",
      "────┼────┼────\n",
      " 0  │    │  x  \n",
      "\n",
      "this is ur turn Adi\n",
      "Please Enter postion : 3\n",
      " x  │    │  x  \n",
      "────┼────┼────\n",
      "    │ 0  │     \n",
      "────┼────┼────\n",
      " 0  │    │  x  \n",
      "\n",
      "this is ur turn Jazz\n",
      "Please Enter postion : 2\n",
      " x  │ 0  │  x  \n",
      "────┼────┼────\n",
      "    │ 0  │     \n",
      "────┼────┼────\n",
      " 0  │    │  x  \n",
      "\n",
      "this is ur turn Adi\n",
      "Please Enter postion : 6\n",
      " x  │ 0  │  x  \n",
      "────┼────┼────\n",
      "    │ 0  │  x  \n",
      "────┼────┼────\n",
      " 0  │    │  x  \n",
      "\n",
      "\n",
      "Hurray !!, Adi you win ♥♥\n"
     ]
    }
   ],
   "source": [
    "# for display the tic tac toe board\n",
    "def print_board(a):\n",
    "    print(\"\",a[1],\" │\",a[2],\" │ \",a[3],\" \")\n",
    "    print(\"────┼────┼────\")\n",
    "    print(\"\",a[4],\" │\",a[5],\" │ \",a[6],\" \")\n",
    "    print(\"────┼────┼────\")\n",
    "    print(\"\",a[7],\" │\",a[8],\" │ \",a[9],\" \")\n",
    "    \n",
    "# for display the instruction of game\n",
    "def print_instructions():\n",
    "    print(\"\\n----------- WELCOME TO TIC TAC TOE ------------\\n\\n\")\n",
    "    print_board(pos)\n",
    "    print()\n",
    "    \n",
    "    players[0] = input(\"Player 1 : \")\n",
    "    players[1] = input(\"Player 2 : \")\n",
    "    \n",
    "    print(\"\\n-------- Instructions ---------\")\n",
    "    print(\"->\",players[0],\"you will using X\")\n",
    "    print(\"->\",players[1],\"you will using 0\")\n",
    "    print(\"-> Turn starts from\",players[0])\n",
    "    print(\"-> Potisions are like :-\")\n",
    "    print(\"  1 │  2 │ 3  \")\n",
    "    print(\"────┼────┼────\")\n",
    "    print(\"  4 │ 5  │ 6  \")\n",
    "    print(\"────┼────┼────\")\n",
    "    print(\"  7 │ 8  │ 9  \")\n",
    "    print(\"-> press S to start the game\")\n",
    "    flag = input()    \n",
    "    return flag\n",
    "\n",
    "# for start the game\n",
    "def startgame():\n",
    "    turn = 0\n",
    "    for i in range(9):\n",
    "        if turn % 2 == 0:\n",
    "            print(\"\\nthis is ur turn\",players[0])\n",
    "            p = int(input(\"Please Enter postion : \"))\n",
    "            v = 'x'\n",
    "            pos[p] = v\n",
    "            print_board(pos)\n",
    "            winner = checkwin(v)\n",
    "            if winner == \"nobody\":\n",
    "                turn = 1\n",
    "                continue\n",
    "            else:\n",
    "                print(\"\\n\\nHurray !!,\",players[0],\"you win ♥♥\")\n",
    "                break\n",
    "        else:\n",
    "            print(\"\\nthis is ur turn\",players[1])\n",
    "            p = int(input(\"Please Enter postion : \"))\n",
    "            v = '0'\n",
    "            pos[p] = v\n",
    "            print_board(pos)\n",
    "            winner = checkwin(v)\n",
    "            if winner == \"nobody\":\n",
    "                turn = 0\n",
    "                continue\n",
    "            else:\n",
    "                print(\"\\n\\nHurray !!,\",players[1],\"you win ♥♥\")    \n",
    "                break\n",
    "    else:\n",
    "        print(\"\\n\\nGame is Tie\")\n",
    "        \n",
    "# check for winner \n",
    "def checkwin(v):\n",
    "    for i in winning_conditions:\n",
    "        if (pos[i[0]], pos[i[1]], pos[i[2]]) == (v,v,v):\n",
    "            winner = players[0]\n",
    "            break\n",
    "        elif (pos[i[0]], pos[i[1]], pos[i[2]]) == (v,v,v):\n",
    "            winner = players[1]\n",
    "            break\n",
    "    else:\n",
    "        winner = \"nobody\"\n",
    "    return winner\n",
    "\n",
    "# main code \n",
    "pos = ['',' ',' ',' ',' ',' ',' ',' ',' ',' ']\n",
    "players = ['','']\n",
    "winning_conditions = [(1,2,3),(4,5,6),(7,8,9),(1,4,7),(2,5,8),(3,6,9),(1,5,9),(3,5,7)]\n",
    "flag = print_instructions()\n",
    "if flag == 's' or flag == 'S':\n",
    "    startgame()\n",
    "else:\n",
    "    print(\"Invalid Entry\")\n"
   ]
  },
  {
   "cell_type": "markdown",
   "id": "70230f90",
   "metadata": {},
   "source": [
    "# Password Locker"
   ]
  },
  {
   "cell_type": "code",
   "execution_count": 5,
   "id": "4851b567",
   "metadata": {},
   "outputs": [
    {
     "name": "stdout",
     "output_type": "stream",
     "text": [
      "email\n",
      "Password for email copied to clipboard.\n"
     ]
    }
   ],
   "source": [
    "PASSWORDS={'email':'F7minlBODuvMJuxESSKFHtxFtjVB6',\n",
    "           'blog' :'VmALvOyKAxiVH5G8v01if1MLZF3sdt',\n",
    "           'luggage':'9531'\n",
    "          }\n",
    "import sys,pyperclip\n",
    "if len(sys.argv)<2:\n",
    "    print(' email-copy account password')\n",
    "    sys.exit()\n",
    "account=input()\n",
    "if account in PASSWORDS:\n",
    "    pyperclip.copy(PASSWORDS[account])\n",
    "    print('Password for '+account+' copied to clipboard.')\n",
    "else:\n",
    "    print('There is no account named'+account)\n",
    "    "
   ]
  },
  {
   "cell_type": "code",
   "execution_count": 6,
   "id": "ad6a9d83",
   "metadata": {},
   "outputs": [
    {
     "name": "stdout",
     "output_type": "stream",
     "text": [
      "Defaulting to user installation because normal site-packages is not writeable\n",
      "Requirement already satisfied: pyperclip in c:\\users\\indian\\appdata\\roaming\\python\\python38\\site-packages (1.8.2)\n",
      "Note: you may need to restart the kernel to use updated packages.\n"
     ]
    }
   ],
   "source": [
    "pip install pyperclip"
   ]
  },
  {
   "cell_type": "markdown",
   "id": "60291ed8",
   "metadata": {},
   "source": [
    "# Adding Bullets"
   ]
  },
  {
   "cell_type": "code",
   "execution_count": 17,
   "id": "c1e2b8f8",
   "metadata": {},
   "outputs": [
    {
     "name": "stdout",
     "output_type": "stream",
     "text": [
      "* Pyhton was founded by guido van rossum\n"
     ]
    }
   ],
   "source": [
    "import pyperclip\n",
    "text='Pyhton was founded by guido van rossum'\n",
    "lines=text.split('\\n')\n",
    "for i in range(len(lines)):\n",
    "    lines[i]='* '+lines[i]\n",
    "text='\\n'.join(lines)\n",
    "pyperclip.copy(text)\n",
    "print(text)"
   ]
  },
  {
   "cell_type": "markdown",
   "id": "a1bd497f",
   "metadata": {},
   "source": [
    "# MODULE 3"
   ]
  },
  {
   "cell_type": "markdown",
   "id": "1f361586",
   "metadata": {},
   "source": [
    "# Text Patterns Without Regex"
   ]
  },
  {
   "cell_type": "code",
   "execution_count": 18,
   "id": "b8cb9f90",
   "metadata": {},
   "outputs": [
    {
     "name": "stdout",
     "output_type": "stream",
     "text": [
      "Phone number found: 995-554-6987\n",
      "Phone number found: 958-685-2254\n",
      "done\n"
     ]
    }
   ],
   "source": [
    "def isPhoneNumber(text):\n",
    "    if len(text)!=12:\n",
    "        return False\n",
    "    for i in range(0,3):\n",
    "        if not text[i].isdecimal():\n",
    "            return False\n",
    "    if text[3]!='-':\n",
    "        return False\n",
    "    for i in range(4,7):\n",
    "         if not text[i].isdecimal():\n",
    "            return False\n",
    "    if text[7]!='-':\n",
    "        return False\n",
    "    for i in range(8,12):\n",
    "         if not text[i].isdecimal():\n",
    "            return False\n",
    "    return True\n",
    "message='call me at 995-554-6987 tomorrow. 958-685-2254 is my office number.'\n",
    "for i in range(len(message)):\n",
    "    chunk=message[i:i+12]\n",
    "    if isPhoneNumber(chunk):\n",
    "        print('Phone number found: '+chunk)\n",
    "print('done')"
   ]
  },
  {
   "cell_type": "markdown",
   "id": "ceffac97",
   "metadata": {},
   "source": [
    "# With Regex"
   ]
  },
  {
   "cell_type": "code",
   "execution_count": 25,
   "id": "64d1050d",
   "metadata": {},
   "outputs": [
    {
     "name": "stdout",
     "output_type": "stream",
     "text": [
      "Phone number found 995-554-6987\n"
     ]
    }
   ],
   "source": [
    "import re\n",
    "phoneNumRegex=re.compile(r'(\\d\\d\\d-\\d\\d\\d-\\d\\d\\d\\d)')\n",
    "mo=phoneNumRegex.search(message)\n",
    "print('Phone number found '+mo.group())"
   ]
  },
  {
   "cell_type": "markdown",
   "id": "e8430a87",
   "metadata": {},
   "source": [
    "# Phone and email extractor"
   ]
  },
  {
   "cell_type": "code",
   "execution_count": 26,
   "id": "6367d2a6",
   "metadata": {},
   "outputs": [
    {
     "name": "stdout",
     "output_type": "stream",
     "text": [
      "Copied to clipboard:\n",
      "academic@nostarch.com\n",
      "sales@nostarch.com\n",
      "conferences@nostarch.com\n",
      "errata@nostarch.com\n",
      "info@nostarch.com\n",
      "info@nostarch.com\n",
      "media@nostarch.com\n",
      "editors@nostarch.com\n",
      "rights@nostarch.com\n"
     ]
    }
   ],
   "source": [
    "import pyperclip, re\n",
    "phoneRegex = re.compile(r'''(\n",
    "(\\d{3}|\\(\\d{3}\\))? \n",
    "(\\s|-|\\.)? \n",
    "(\\d{3}) s\n",
    "(\\s|-|\\.) \n",
    "(\\d{4}) \n",
    "(\\s*(ext|x|ext.)\\s*(\\d{2,5}))? # extension\n",
    ")''', re.VERBOSE)\n",
    "emailRegex = re.compile(r'''(\n",
    "[a-zA-Z0-9._%+-]+ \n",
    "@ \n",
    "[a-zA-Z0-9.-]+ \n",
    "(\\.[a-zA-Z]{2,4}) \n",
    ")''', re.VERBOSE)\n",
    "text = str(pyperclip.paste())\n",
    "matches = []\n",
    "for groups in phoneRegex.findall(text):\n",
    "    phoneNum = '-'.join([groups[1], groups[3], groups[5]])\n",
    "    if groups[8] != '':\n",
    "        phoneNum += ' x' + groups[8]\n",
    "    matches.append(phoneNum)\n",
    "for groups in emailRegex.findall(text):\n",
    "    matches.append(groups[0])\n",
    "if len(matches) > 0:\n",
    "    pyperclip.copy('\\n'.join(matches))\n",
    "    print('Copied to clipboard:')\n",
    "    print('\\n'.join(matches))\n",
    "else:\n",
    "    print('No phone numbers or email addresses found.')"
   ]
  },
  {
   "cell_type": "markdown",
   "id": "4e8e82ee",
   "metadata": {},
   "source": [
    "# Quiz Generation"
   ]
  },
  {
   "cell_type": "code",
   "execution_count": 29,
   "id": "d70a1062",
   "metadata": {},
   "outputs": [],
   "source": [
    "import random\n",
    "capitals = {'Alabama': 'Montgomery', 'Alaska': 'Juneau', 'Arizona': 'Phoenix',\n",
    "'Arkansas': 'Little Rock', 'California': 'Sacramento', 'Colorado': 'Denver',\n",
    "'Connecticut': 'Hartford', 'Delaware': 'Dover', 'Florida': 'Tallahassee',\n",
    "'Georgia': 'Atlanta', 'Hawaii': 'Honolulu', 'Idaho': 'Boise', 'Illinois':\n",
    "'Springfield', 'Indiana': 'Indianapolis', 'Iowa': 'Des Moines', 'Kansas':\n",
    "'Topeka', 'Kentucky': 'Frankfort', 'Louisiana': 'Baton Rouge', 'Maine':\n",
    "'Augusta', 'Maryland': 'Annapolis', 'Massachusetts': 'Boston', 'Michigan':\n",
    "'Lansing', 'Minnesota': 'Saint Paul', 'Mississippi': 'Jackson', 'Missouri':\n",
    "'Jefferson City', 'Montana': 'Helena', 'Nebraska': 'Lincoln', 'Nevada':\n",
    "'Carson City', 'New Hampshire': 'Concord', 'New Jersey': 'Trenton', 'New Mexico': \n",
    "'Santa Fe', 'New York': 'Albany', 'North Carolina': 'Raleigh',\n",
    "'North Dakota': 'Bismarck', 'Ohio': 'Columbus', 'Oklahoma': 'Oklahoma City',\n",
    "'Oregon': 'Salem', 'Pennsylvania': 'Harrisburg', 'Rhode Island': 'Providence',\n",
    "'South Carolina': 'Columbia', 'South Dakota': 'Pierre','Tennessee':\n",
    "'Nashville', 'Texas': 'Austin', 'Utah': 'Salt Lake City', 'Vermont':\n",
    "'Montpelier', 'Virginia': 'Richmond', 'Washington': 'Olympia', 'West Virginia': \n",
    "'Charleston', 'Wisconsin': 'Madison', 'Wyoming': 'Cheyenne'\n",
    "}\n",
    "for quizNum in range(35):\n",
    "    quizFile = open('capitalsquiz%s.txt' % (quizNum + 1), 'w')\n",
    "    answerKeyFile = open('capitalsquiz_answers%s.txt' % (quizNum + 1), 'w')\n",
    "    quizFile.write('Name:\\n\\nDate:\\n\\nPeriod:\\n\\n')\n",
    "    quizFile.write((' ' * 20) + 'State Capitals Quiz (Form %s)' % (quizNum + 1))\n",
    "    quizFile.write('\\n\\n')\n",
    "    states = list(capitals.keys())\n",
    "    random.shuffle(states)\n",
    "for questionNum in range(50):\n",
    "    correctAnswer = capitals[states[questionNum]]\n",
    "    wrongAnswers = list(capitals.values())\n",
    "    del wrongAnswers[wrongAnswers.index(correctAnswer)]\n",
    "    wrongAnswers = random.sample(wrongAnswers, 3)\n",
    "    answerOptions = wrongAnswers + [correctAnswer]\n",
    "    random.shuffle(answerOptions)\n",
    "quizFile.write('%s. What is the capital of %s?\\n' % (questionNum + 1,states[questionNum]))\n",
    "for i in range(4):\n",
    "    quizFile.write(' %s. %s\\n' % ('ABCD'[i], answerOptions[i]))\n",
    "quizFile.write('\\n')\n",
    "answerKeyFile.write('%s. %s\\n' % (questionNum + 1, 'ABCD'[answerOptions.index(correctAnswer)]))\n",
    "quizFile.close()\n",
    "answerKeyFile.close()"
   ]
  },
  {
   "cell_type": "markdown",
   "id": "1939ee6b",
   "metadata": {},
   "source": [
    "# Multiclipboard"
   ]
  },
  {
   "cell_type": "code",
   "execution_count": 31,
   "id": "ecafd538",
   "metadata": {},
   "outputs": [],
   "source": [
    "import shelve, pyperclip, sys\n",
    "mcbShelf = shelve.open('mcb')\n",
    "if len(sys.argv) == 3 and sys.argv[1].lower() == 'save':\n",
    "    mcbShelf[sys.argv[2]] = pyperclip.paste()\n",
    "elif len(sys.argv) == 2:\n",
    "    if sys.argv[1].lower() == 'list':\n",
    "        pyperclip.copy(str(list(mcbShelf.keys())))\n",
    "    elif sys.argv[1] in mcbShelf:\n",
    "        pyperclip.copy(mcbShelf[sys.argv[1]])\n",
    "mcbShelf.close()"
   ]
  },
  {
   "cell_type": "markdown",
   "id": "815aa29e",
   "metadata": {},
   "source": [
    "# American to European"
   ]
  },
  {
   "cell_type": "code",
   "execution_count": 40,
   "id": "5cefcbd5",
   "metadata": {},
   "outputs": [],
   "source": [
    "import shutil, os, re\n",
    "datePattern = re.compile(r\"\"\"^(.*?) \n",
    "((0|1)?\\d)- \n",
    "((0|1|2|3)?\\d)- \n",
    "((19|20)\\d\\d) \n",
    "(.*?)$ \n",
    "\"\"\", re.VERBOSE)\n",
    "for amerFilename in os.listdir('.'):\n",
    "    mo = datePattern.search(amerFilename)\n",
    "    if mo == None:\n",
    "        continue\n",
    "    beforePart = mo.group(1)\n",
    "    monthPart = mo.group(2)\n",
    "    dayPart = mo.group(4)\n",
    "    yearPart = mo.group(6)\n",
    "    afterPart = mo.group(8)\n",
    "    euroFilename = beforePart + dayPart + '-' + monthPart + '-' + yearPart + afterPart\n",
    "    absWorkingDir = os.path.abspath('.')\n",
    "    amerFilename = os.path.join(absWorkingDir, amerFilename)\n",
    "    euroFilename = os.path.join(absWorkingDir, euroFilename)\n",
    "    print('Renaming \"%s\" to \"%s\"...' % (amerFilename, euroFilename))\n"
   ]
  },
  {
   "cell_type": "markdown",
   "id": "e64585db",
   "metadata": {},
   "source": [
    "# Backing Up A Folder Into A Zipfile"
   ]
  },
  {
   "cell_type": "code",
   "execution_count": 44,
   "id": "bda52b4d",
   "metadata": {},
   "outputs": [
    {
     "name": "stdout",
     "output_type": "stream",
     "text": [
      "Creating delicious_1.zip...\n",
      "Done.\n"
     ]
    }
   ],
   "source": [
    "import zipfile, os\n",
    "def backupToZip(folder):\n",
    "    folder = os.path.abspath(folder) \n",
    "    number = 1\n",
    "    while True:\n",
    "        zipFilename = os.path.basename(folder) + '_' + str(number) + '.zip'\n",
    "        if not os.path.exists(zipFilename):\n",
    "            break\n",
    "        number = number + 1\n",
    "    print('Creating %s...' % (zipFilename))\n",
    "    backupZip = zipfile.ZipFile(zipFilename, 'w')\n",
    "    for foldername, subfolders, filenames in os.walk(folder):\n",
    "        print('Adding files in %s...' % (foldername))\n",
    "        backupZip.write(foldername)\n",
    "        for filename in filenames:\n",
    "            newBase / os.path.basename(folder) + '_'\n",
    "            if filename.startswith(newBase) and filename.endswith('.zip'):\n",
    "                continue \n",
    "            backupZip.write(os.path.join(foldername, filename))\n",
    "    backupZip.close()\n",
    "    print('Done.')\n",
    "backupToZip('C:\\\\delicious')"
   ]
  },
  {
   "cell_type": "markdown",
   "id": "1aa3c8e7",
   "metadata": {},
   "source": [
    "# Debugging Coin Toss"
   ]
  },
  {
   "cell_type": "code",
   "execution_count": 50,
   "id": "e0f7b5f8",
   "metadata": {},
   "outputs": [
    {
     "name": "stdout",
     "output_type": "stream",
     "text": [
      "Guess the coin toss! Enter heads or tails:\n",
      "0\n",
      "Nope! Guess again!\n",
      "1\n",
      "Nope. You are really bad at this game.\n"
     ]
    }
   ],
   "source": [
    "import random\n",
    "guess = ''\n",
    "while guess not in ('0', '1'):\n",
    "    print('Guess the coin toss! Enter heads or tails:')\n",
    "    guess = input()\n",
    "toss = random.randint(0, 1)\n",
    "if toss == guess:\n",
    "    print('You got it!')\n",
    "else:\n",
    "    print('Nope! Guess again!')\n",
    "    guesss = input()\n",
    "    if toss == guess:\n",
    "        print('You got it!')\n",
    "    else:\n",
    "        print('Nope. You are really bad at this game.')"
   ]
  },
  {
   "cell_type": "markdown",
   "id": "0bf394f3",
   "metadata": {},
   "source": [
    "# MODULE 5"
   ]
  },
  {
   "cell_type": "markdown",
   "id": "39d0aec5",
   "metadata": {},
   "source": [
    "# Mapit"
   ]
  },
  {
   "cell_type": "code",
   "execution_count": 51,
   "id": "787f9739",
   "metadata": {},
   "outputs": [
    {
     "data": {
      "text/plain": [
       "True"
      ]
     },
     "execution_count": 51,
     "metadata": {},
     "output_type": "execute_result"
    }
   ],
   "source": [
    "import webbrowser, sys, pyperclip\n",
    "if len(sys.argv) > 1:\n",
    "    address = ' '.join(sys.argv[1:])\n",
    "else:\n",
    "    address = pyperclip.paste()\n",
    "webbrowser.open('https://www.google.com/maps/place/' + address)"
   ]
  },
  {
   "cell_type": "markdown",
   "id": "e3aed96a",
   "metadata": {},
   "source": [
    "# I Am Feeling Lucky Google Search"
   ]
  },
  {
   "cell_type": "code",
   "execution_count": 52,
   "id": "1251770c",
   "metadata": {},
   "outputs": [
    {
     "name": "stdout",
     "output_type": "stream",
     "text": [
      "Googling...\n"
     ]
    }
   ],
   "source": [
    "import requests, sys, webbrowser, bs4\n",
    "print('Googling...')\n",
    "res = requests.get('http://google.com/search?q=' + ' '.join(sys.argv[1:]))\n",
    "res.raise_for_status()\n",
    "soup = bs4.BeautifulSoup(res.text)\n",
    "linkElems = soup.select('.r a')\n",
    "numOpen = min(5, len(linkElems))\n",
    "for i in range(numOpen):\n",
    "    webbrowser.open('http://google.com' + linkElems[i].get('href'))"
   ]
  },
  {
   "cell_type": "markdown",
   "id": "93c1cd68",
   "metadata": {},
   "source": [
    "# Downloading XKCD Comics"
   ]
  },
  {
   "cell_type": "code",
   "execution_count": 59,
   "id": "a1c839f5",
   "metadata": {},
   "outputs": [
    {
     "name": "stdout",
     "output_type": "stream",
     "text": [
      "Downloading page https://xkcd.com...\n",
      "Could not find comic image.\n",
      "Downloading page https://xkcd.com...\n",
      "Could not find comic image.\n",
      "Downloading page https://xkcd.com...\n",
      "Could not find comic image.\n",
      "Downloading page https://xkcd.com...\n",
      "Could not find comic image.\n",
      "Downloading page https://xkcd.com...\n",
      "Could not find comic image.\n",
      "Downloading page https://xkcd.com...\n",
      "Could not find comic image.\n",
      "Downloading page https://xkcd.com...\n",
      "Could not find comic image.\n",
      "Downloading page https://xkcd.com...\n",
      "Could not find comic image.\n",
      "Downloading page https://xkcd.com...\n",
      "Could not find comic image.\n",
      "Downloading page https://xkcd.com...\n",
      "Could not find comic image.\n",
      "Downloading page https://xkcd.com...\n",
      "Could not find comic image.\n",
      "Downloading page https://xkcd.com...\n",
      "Could not find comic image.\n",
      "Downloading page https://xkcd.com...\n",
      "Could not find comic image.\n",
      "Downloading page https://xkcd.com...\n",
      "Could not find comic image.\n",
      "Downloading page https://xkcd.com...\n",
      "Could not find comic image.\n",
      "Downloading page https://xkcd.com...\n",
      "Could not find comic image.\n",
      "Downloading page https://xkcd.com...\n",
      "Could not find comic image.\n",
      "Downloading page https://xkcd.com...\n",
      "Could not find comic image.\n",
      "Downloading page https://xkcd.com...\n",
      "Could not find comic image.\n",
      "Downloading page https://xkcd.com...\n",
      "Could not find comic image.\n",
      "Downloading page https://xkcd.com...\n",
      "Could not find comic image.\n",
      "Downloading page https://xkcd.com...\n",
      "Could not find comic image.\n",
      "Downloading page https://xkcd.com...\n",
      "Could not find comic image.\n",
      "Downloading page https://xkcd.com...\n",
      "Could not find comic image.\n",
      "Downloading page https://xkcd.com...\n",
      "Could not find comic image.\n",
      "Downloading page https://xkcd.com...\n",
      "Could not find comic image.\n",
      "Downloading page https://xkcd.com...\n",
      "Could not find comic image.\n",
      "Downloading page https://xkcd.com...\n",
      "Could not find comic image.\n",
      "Downloading page https://xkcd.com...\n",
      "Could not find comic image.\n",
      "Downloading page https://xkcd.com...\n",
      "Could not find comic image.\n",
      "Downloading page https://xkcd.com...\n",
      "Could not find comic image.\n",
      "Downloading page https://xkcd.com...\n",
      "Could not find comic image.\n",
      "Downloading page https://xkcd.com...\n",
      "Could not find comic image.\n",
      "Downloading page https://xkcd.com...\n",
      "Could not find comic image.\n",
      "Downloading page https://xkcd.com...\n",
      "Could not find comic image.\n",
      "Downloading page https://xkcd.com...\n",
      "Could not find comic image.\n",
      "Downloading page https://xkcd.com...\n",
      "Could not find comic image.\n",
      "Downloading page https://xkcd.com...\n",
      "Could not find comic image.\n",
      "Downloading page https://xkcd.com...\n",
      "Could not find comic image.\n",
      "Downloading page https://xkcd.com...\n",
      "Could not find comic image.\n",
      "Downloading page https://xkcd.com...\n",
      "Could not find comic image.\n",
      "Downloading page https://xkcd.com...\n",
      "Could not find comic image.\n",
      "Downloading page https://xkcd.com...\n",
      "Could not find comic image.\n",
      "Downloading page https://xkcd.com...\n",
      "Could not find comic image.\n",
      "Downloading page https://xkcd.com...\n",
      "Could not find comic image.\n",
      "Downloading page https://xkcd.com...\n",
      "Could not find comic image.\n",
      "Downloading page https://xkcd.com...\n",
      "Could not find comic image.\n",
      "Downloading page https://xkcd.com...\n",
      "Could not find comic image.\n",
      "Downloading page https://xkcd.com...\n",
      "Could not find comic image.\n",
      "Downloading page https://xkcd.com...\n",
      "Could not find comic image.\n",
      "Downloading page https://xkcd.com...\n",
      "Could not find comic image.\n",
      "Downloading page https://xkcd.com...\n",
      "Could not find comic image.\n",
      "Downloading page https://xkcd.com...\n",
      "Could not find comic image.\n",
      "Downloading page https://xkcd.com...\n",
      "Could not find comic image.\n",
      "Downloading page https://xkcd.com...\n",
      "Could not find comic image.\n",
      "Downloading page https://xkcd.com...\n",
      "Could not find comic image.\n",
      "Downloading page https://xkcd.com...\n",
      "Could not find comic image.\n",
      "Downloading page https://xkcd.com...\n",
      "Could not find comic image.\n",
      "Downloading page https://xkcd.com...\n",
      "Could not find comic image.\n",
      "Downloading page https://xkcd.com...\n",
      "Could not find comic image.\n",
      "Downloading page https://xkcd.com...\n",
      "Could not find comic image.\n",
      "Downloading page https://xkcd.com...\n",
      "Could not find comic image.\n",
      "Downloading page https://xkcd.com...\n",
      "Could not find comic image.\n",
      "Downloading page https://xkcd.com...\n",
      "Could not find comic image.\n",
      "Downloading page https://xkcd.com...\n",
      "Could not find comic image.\n",
      "Downloading page https://xkcd.com...\n",
      "Could not find comic image.\n",
      "Downloading page https://xkcd.com...\n",
      "Could not find comic image.\n",
      "Downloading page https://xkcd.com...\n",
      "Could not find comic image.\n",
      "Downloading page https://xkcd.com...\n",
      "Could not find comic image.\n",
      "Downloading page https://xkcd.com...\n",
      "Could not find comic image.\n",
      "Downloading page https://xkcd.com...\n",
      "Could not find comic image.\n",
      "Downloading page https://xkcd.com...\n",
      "Could not find comic image.\n",
      "Downloading page https://xkcd.com...\n",
      "Could not find comic image.\n",
      "Downloading page https://xkcd.com...\n",
      "Could not find comic image.\n",
      "Downloading page https://xkcd.com...\n",
      "Could not find comic image.\n",
      "Downloading page https://xkcd.com...\n",
      "Could not find comic image.\n",
      "Downloading page https://xkcd.com...\n",
      "Could not find comic image.\n",
      "Downloading page https://xkcd.com...\n",
      "Could not find comic image.\n",
      "Downloading page https://xkcd.com...\n",
      "Could not find comic image.\n",
      "Downloading page https://xkcd.com...\n",
      "Could not find comic image.\n",
      "Downloading page https://xkcd.com...\n",
      "Could not find comic image.\n",
      "Downloading page https://xkcd.com...\n",
      "Could not find comic image.\n",
      "Downloading page https://xkcd.com...\n",
      "Could not find comic image.\n",
      "Downloading page https://xkcd.com...\n",
      "Could not find comic image.\n",
      "Downloading page https://xkcd.com...\n",
      "Could not find comic image.\n",
      "Downloading page https://xkcd.com...\n",
      "Could not find comic image.\n",
      "Downloading page https://xkcd.com...\n",
      "Could not find comic image.\n",
      "Downloading page https://xkcd.com...\n",
      "Could not find comic image.\n",
      "Downloading page https://xkcd.com...\n",
      "Could not find comic image.\n",
      "Downloading page https://xkcd.com...\n",
      "Could not find comic image.\n",
      "Downloading page https://xkcd.com...\n"
     ]
    },
    {
     "ename": "KeyboardInterrupt",
     "evalue": "",
     "output_type": "error",
     "traceback": [
      "\u001b[1;31m---------------------------------------------------------------------------\u001b[0m",
      "\u001b[1;31mKeyboardInterrupt\u001b[0m                         Traceback (most recent call last)",
      "\u001b[1;32m<ipython-input-59-4977c6f6e0c0>\u001b[0m in \u001b[0;36m<module>\u001b[1;34m\u001b[0m\n\u001b[0;32m      4\u001b[0m \u001b[1;32mwhile\u001b[0m \u001b[1;32mnot\u001b[0m \u001b[0murl\u001b[0m\u001b[1;33m.\u001b[0m\u001b[0mendswith\u001b[0m\u001b[1;33m(\u001b[0m\u001b[1;34m'#'\u001b[0m\u001b[1;33m)\u001b[0m\u001b[1;33m:\u001b[0m\u001b[1;33m\u001b[0m\u001b[1;33m\u001b[0m\u001b[0m\n\u001b[0;32m      5\u001b[0m     \u001b[0mprint\u001b[0m\u001b[1;33m(\u001b[0m\u001b[1;34m'Downloading page %s...'\u001b[0m \u001b[1;33m%\u001b[0m \u001b[0murl\u001b[0m\u001b[1;33m)\u001b[0m\u001b[1;33m\u001b[0m\u001b[1;33m\u001b[0m\u001b[0m\n\u001b[1;32m----> 6\u001b[1;33m     \u001b[0mres\u001b[0m \u001b[1;33m=\u001b[0m \u001b[0mrequests\u001b[0m\u001b[1;33m.\u001b[0m\u001b[0mget\u001b[0m\u001b[1;33m(\u001b[0m\u001b[0murl\u001b[0m\u001b[1;33m)\u001b[0m\u001b[1;33m\u001b[0m\u001b[1;33m\u001b[0m\u001b[0m\n\u001b[0m\u001b[0;32m      7\u001b[0m     \u001b[0mres\u001b[0m\u001b[1;33m.\u001b[0m\u001b[0mraise_for_status\u001b[0m\u001b[1;33m(\u001b[0m\u001b[1;33m)\u001b[0m\u001b[1;33m\u001b[0m\u001b[1;33m\u001b[0m\u001b[0m\n\u001b[0;32m      8\u001b[0m     \u001b[0msoup\u001b[0m \u001b[1;33m=\u001b[0m \u001b[0mbs4\u001b[0m\u001b[1;33m.\u001b[0m\u001b[0mBeautifulSoup\u001b[0m\u001b[1;33m(\u001b[0m\u001b[0mres\u001b[0m\u001b[1;33m.\u001b[0m\u001b[0mtext\u001b[0m\u001b[1;33m)\u001b[0m\u001b[1;33m\u001b[0m\u001b[1;33m\u001b[0m\u001b[0m\n",
      "\u001b[1;32mD:\\Anaconda\\lib\\site-packages\\requests\\api.py\u001b[0m in \u001b[0;36mget\u001b[1;34m(url, params, **kwargs)\u001b[0m\n\u001b[0;32m     74\u001b[0m \u001b[1;33m\u001b[0m\u001b[0m\n\u001b[0;32m     75\u001b[0m     \u001b[0mkwargs\u001b[0m\u001b[1;33m.\u001b[0m\u001b[0msetdefault\u001b[0m\u001b[1;33m(\u001b[0m\u001b[1;34m'allow_redirects'\u001b[0m\u001b[1;33m,\u001b[0m \u001b[1;32mTrue\u001b[0m\u001b[1;33m)\u001b[0m\u001b[1;33m\u001b[0m\u001b[1;33m\u001b[0m\u001b[0m\n\u001b[1;32m---> 76\u001b[1;33m     \u001b[1;32mreturn\u001b[0m \u001b[0mrequest\u001b[0m\u001b[1;33m(\u001b[0m\u001b[1;34m'get'\u001b[0m\u001b[1;33m,\u001b[0m \u001b[0murl\u001b[0m\u001b[1;33m,\u001b[0m \u001b[0mparams\u001b[0m\u001b[1;33m=\u001b[0m\u001b[0mparams\u001b[0m\u001b[1;33m,\u001b[0m \u001b[1;33m**\u001b[0m\u001b[0mkwargs\u001b[0m\u001b[1;33m)\u001b[0m\u001b[1;33m\u001b[0m\u001b[1;33m\u001b[0m\u001b[0m\n\u001b[0m\u001b[0;32m     77\u001b[0m \u001b[1;33m\u001b[0m\u001b[0m\n\u001b[0;32m     78\u001b[0m \u001b[1;33m\u001b[0m\u001b[0m\n",
      "\u001b[1;32mD:\\Anaconda\\lib\\site-packages\\requests\\api.py\u001b[0m in \u001b[0;36mrequest\u001b[1;34m(method, url, **kwargs)\u001b[0m\n\u001b[0;32m     59\u001b[0m     \u001b[1;31m# cases, and look like a memory leak in others.\u001b[0m\u001b[1;33m\u001b[0m\u001b[1;33m\u001b[0m\u001b[1;33m\u001b[0m\u001b[0m\n\u001b[0;32m     60\u001b[0m     \u001b[1;32mwith\u001b[0m \u001b[0msessions\u001b[0m\u001b[1;33m.\u001b[0m\u001b[0mSession\u001b[0m\u001b[1;33m(\u001b[0m\u001b[1;33m)\u001b[0m \u001b[1;32mas\u001b[0m \u001b[0msession\u001b[0m\u001b[1;33m:\u001b[0m\u001b[1;33m\u001b[0m\u001b[1;33m\u001b[0m\u001b[0m\n\u001b[1;32m---> 61\u001b[1;33m         \u001b[1;32mreturn\u001b[0m \u001b[0msession\u001b[0m\u001b[1;33m.\u001b[0m\u001b[0mrequest\u001b[0m\u001b[1;33m(\u001b[0m\u001b[0mmethod\u001b[0m\u001b[1;33m=\u001b[0m\u001b[0mmethod\u001b[0m\u001b[1;33m,\u001b[0m \u001b[0murl\u001b[0m\u001b[1;33m=\u001b[0m\u001b[0murl\u001b[0m\u001b[1;33m,\u001b[0m \u001b[1;33m**\u001b[0m\u001b[0mkwargs\u001b[0m\u001b[1;33m)\u001b[0m\u001b[1;33m\u001b[0m\u001b[1;33m\u001b[0m\u001b[0m\n\u001b[0m\u001b[0;32m     62\u001b[0m \u001b[1;33m\u001b[0m\u001b[0m\n\u001b[0;32m     63\u001b[0m \u001b[1;33m\u001b[0m\u001b[0m\n",
      "\u001b[1;32mD:\\Anaconda\\lib\\site-packages\\requests\\sessions.py\u001b[0m in \u001b[0;36mrequest\u001b[1;34m(self, method, url, params, data, headers, cookies, files, auth, timeout, allow_redirects, proxies, hooks, stream, verify, cert, json)\u001b[0m\n\u001b[0;32m    540\u001b[0m         }\n\u001b[0;32m    541\u001b[0m         \u001b[0msend_kwargs\u001b[0m\u001b[1;33m.\u001b[0m\u001b[0mupdate\u001b[0m\u001b[1;33m(\u001b[0m\u001b[0msettings\u001b[0m\u001b[1;33m)\u001b[0m\u001b[1;33m\u001b[0m\u001b[1;33m\u001b[0m\u001b[0m\n\u001b[1;32m--> 542\u001b[1;33m         \u001b[0mresp\u001b[0m \u001b[1;33m=\u001b[0m \u001b[0mself\u001b[0m\u001b[1;33m.\u001b[0m\u001b[0msend\u001b[0m\u001b[1;33m(\u001b[0m\u001b[0mprep\u001b[0m\u001b[1;33m,\u001b[0m \u001b[1;33m**\u001b[0m\u001b[0msend_kwargs\u001b[0m\u001b[1;33m)\u001b[0m\u001b[1;33m\u001b[0m\u001b[1;33m\u001b[0m\u001b[0m\n\u001b[0m\u001b[0;32m    543\u001b[0m \u001b[1;33m\u001b[0m\u001b[0m\n\u001b[0;32m    544\u001b[0m         \u001b[1;32mreturn\u001b[0m \u001b[0mresp\u001b[0m\u001b[1;33m\u001b[0m\u001b[1;33m\u001b[0m\u001b[0m\n",
      "\u001b[1;32mD:\\Anaconda\\lib\\site-packages\\requests\\sessions.py\u001b[0m in \u001b[0;36msend\u001b[1;34m(self, request, **kwargs)\u001b[0m\n\u001b[0;32m    653\u001b[0m \u001b[1;33m\u001b[0m\u001b[0m\n\u001b[0;32m    654\u001b[0m         \u001b[1;31m# Send the request\u001b[0m\u001b[1;33m\u001b[0m\u001b[1;33m\u001b[0m\u001b[1;33m\u001b[0m\u001b[0m\n\u001b[1;32m--> 655\u001b[1;33m         \u001b[0mr\u001b[0m \u001b[1;33m=\u001b[0m \u001b[0madapter\u001b[0m\u001b[1;33m.\u001b[0m\u001b[0msend\u001b[0m\u001b[1;33m(\u001b[0m\u001b[0mrequest\u001b[0m\u001b[1;33m,\u001b[0m \u001b[1;33m**\u001b[0m\u001b[0mkwargs\u001b[0m\u001b[1;33m)\u001b[0m\u001b[1;33m\u001b[0m\u001b[1;33m\u001b[0m\u001b[0m\n\u001b[0m\u001b[0;32m    656\u001b[0m \u001b[1;33m\u001b[0m\u001b[0m\n\u001b[0;32m    657\u001b[0m         \u001b[1;31m# Total elapsed time of the request (approximately)\u001b[0m\u001b[1;33m\u001b[0m\u001b[1;33m\u001b[0m\u001b[1;33m\u001b[0m\u001b[0m\n",
      "\u001b[1;32mD:\\Anaconda\\lib\\site-packages\\requests\\adapters.py\u001b[0m in \u001b[0;36msend\u001b[1;34m(self, request, stream, timeout, verify, cert, proxies)\u001b[0m\n\u001b[0;32m    437\u001b[0m         \u001b[1;32mtry\u001b[0m\u001b[1;33m:\u001b[0m\u001b[1;33m\u001b[0m\u001b[1;33m\u001b[0m\u001b[0m\n\u001b[0;32m    438\u001b[0m             \u001b[1;32mif\u001b[0m \u001b[1;32mnot\u001b[0m \u001b[0mchunked\u001b[0m\u001b[1;33m:\u001b[0m\u001b[1;33m\u001b[0m\u001b[1;33m\u001b[0m\u001b[0m\n\u001b[1;32m--> 439\u001b[1;33m                 resp = conn.urlopen(\n\u001b[0m\u001b[0;32m    440\u001b[0m                     \u001b[0mmethod\u001b[0m\u001b[1;33m=\u001b[0m\u001b[0mrequest\u001b[0m\u001b[1;33m.\u001b[0m\u001b[0mmethod\u001b[0m\u001b[1;33m,\u001b[0m\u001b[1;33m\u001b[0m\u001b[1;33m\u001b[0m\u001b[0m\n\u001b[0;32m    441\u001b[0m                     \u001b[0murl\u001b[0m\u001b[1;33m=\u001b[0m\u001b[0murl\u001b[0m\u001b[1;33m,\u001b[0m\u001b[1;33m\u001b[0m\u001b[1;33m\u001b[0m\u001b[0m\n",
      "\u001b[1;32mD:\\Anaconda\\lib\\site-packages\\urllib3\\connectionpool.py\u001b[0m in \u001b[0;36murlopen\u001b[1;34m(self, method, url, body, headers, retries, redirect, assert_same_host, timeout, pool_timeout, release_conn, chunked, body_pos, **response_kw)\u001b[0m\n\u001b[0;32m    697\u001b[0m \u001b[1;33m\u001b[0m\u001b[0m\n\u001b[0;32m    698\u001b[0m             \u001b[1;31m# Make the request on the httplib connection object.\u001b[0m\u001b[1;33m\u001b[0m\u001b[1;33m\u001b[0m\u001b[1;33m\u001b[0m\u001b[0m\n\u001b[1;32m--> 699\u001b[1;33m             httplib_response = self._make_request(\n\u001b[0m\u001b[0;32m    700\u001b[0m                 \u001b[0mconn\u001b[0m\u001b[1;33m,\u001b[0m\u001b[1;33m\u001b[0m\u001b[1;33m\u001b[0m\u001b[0m\n\u001b[0;32m    701\u001b[0m                 \u001b[0mmethod\u001b[0m\u001b[1;33m,\u001b[0m\u001b[1;33m\u001b[0m\u001b[1;33m\u001b[0m\u001b[0m\n",
      "\u001b[1;32mD:\\Anaconda\\lib\\site-packages\\urllib3\\connectionpool.py\u001b[0m in \u001b[0;36m_make_request\u001b[1;34m(self, conn, method, url, timeout, chunked, **httplib_request_kw)\u001b[0m\n\u001b[0;32m    380\u001b[0m         \u001b[1;31m# Trigger any extra validation we need to do.\u001b[0m\u001b[1;33m\u001b[0m\u001b[1;33m\u001b[0m\u001b[1;33m\u001b[0m\u001b[0m\n\u001b[0;32m    381\u001b[0m         \u001b[1;32mtry\u001b[0m\u001b[1;33m:\u001b[0m\u001b[1;33m\u001b[0m\u001b[1;33m\u001b[0m\u001b[0m\n\u001b[1;32m--> 382\u001b[1;33m             \u001b[0mself\u001b[0m\u001b[1;33m.\u001b[0m\u001b[0m_validate_conn\u001b[0m\u001b[1;33m(\u001b[0m\u001b[0mconn\u001b[0m\u001b[1;33m)\u001b[0m\u001b[1;33m\u001b[0m\u001b[1;33m\u001b[0m\u001b[0m\n\u001b[0m\u001b[0;32m    383\u001b[0m         \u001b[1;32mexcept\u001b[0m \u001b[1;33m(\u001b[0m\u001b[0mSocketTimeout\u001b[0m\u001b[1;33m,\u001b[0m \u001b[0mBaseSSLError\u001b[0m\u001b[1;33m)\u001b[0m \u001b[1;32mas\u001b[0m \u001b[0me\u001b[0m\u001b[1;33m:\u001b[0m\u001b[1;33m\u001b[0m\u001b[1;33m\u001b[0m\u001b[0m\n\u001b[0;32m    384\u001b[0m             \u001b[1;31m# Py2 raises this as a BaseSSLError, Py3 raises it as socket timeout.\u001b[0m\u001b[1;33m\u001b[0m\u001b[1;33m\u001b[0m\u001b[1;33m\u001b[0m\u001b[0m\n",
      "\u001b[1;32mD:\\Anaconda\\lib\\site-packages\\urllib3\\connectionpool.py\u001b[0m in \u001b[0;36m_validate_conn\u001b[1;34m(self, conn)\u001b[0m\n\u001b[0;32m   1008\u001b[0m         \u001b[1;31m# Force connect early to allow us to validate the connection.\u001b[0m\u001b[1;33m\u001b[0m\u001b[1;33m\u001b[0m\u001b[1;33m\u001b[0m\u001b[0m\n\u001b[0;32m   1009\u001b[0m         \u001b[1;32mif\u001b[0m \u001b[1;32mnot\u001b[0m \u001b[0mgetattr\u001b[0m\u001b[1;33m(\u001b[0m\u001b[0mconn\u001b[0m\u001b[1;33m,\u001b[0m \u001b[1;34m\"sock\"\u001b[0m\u001b[1;33m,\u001b[0m \u001b[1;32mNone\u001b[0m\u001b[1;33m)\u001b[0m\u001b[1;33m:\u001b[0m  \u001b[1;31m# AppEngine might not have  `.sock`\u001b[0m\u001b[1;33m\u001b[0m\u001b[1;33m\u001b[0m\u001b[0m\n\u001b[1;32m-> 1010\u001b[1;33m             \u001b[0mconn\u001b[0m\u001b[1;33m.\u001b[0m\u001b[0mconnect\u001b[0m\u001b[1;33m(\u001b[0m\u001b[1;33m)\u001b[0m\u001b[1;33m\u001b[0m\u001b[1;33m\u001b[0m\u001b[0m\n\u001b[0m\u001b[0;32m   1011\u001b[0m \u001b[1;33m\u001b[0m\u001b[0m\n\u001b[0;32m   1012\u001b[0m         \u001b[1;32mif\u001b[0m \u001b[1;32mnot\u001b[0m \u001b[0mconn\u001b[0m\u001b[1;33m.\u001b[0m\u001b[0mis_verified\u001b[0m\u001b[1;33m:\u001b[0m\u001b[1;33m\u001b[0m\u001b[1;33m\u001b[0m\u001b[0m\n",
      "\u001b[1;32mD:\\Anaconda\\lib\\site-packages\\urllib3\\connection.py\u001b[0m in \u001b[0;36mconnect\u001b[1;34m(self)\u001b[0m\n\u001b[0;32m    409\u001b[0m             \u001b[0mcontext\u001b[0m\u001b[1;33m.\u001b[0m\u001b[0mload_default_certs\u001b[0m\u001b[1;33m(\u001b[0m\u001b[1;33m)\u001b[0m\u001b[1;33m\u001b[0m\u001b[1;33m\u001b[0m\u001b[0m\n\u001b[0;32m    410\u001b[0m \u001b[1;33m\u001b[0m\u001b[0m\n\u001b[1;32m--> 411\u001b[1;33m         self.sock = ssl_wrap_socket(\n\u001b[0m\u001b[0;32m    412\u001b[0m             \u001b[0msock\u001b[0m\u001b[1;33m=\u001b[0m\u001b[0mconn\u001b[0m\u001b[1;33m,\u001b[0m\u001b[1;33m\u001b[0m\u001b[1;33m\u001b[0m\u001b[0m\n\u001b[0;32m    413\u001b[0m             \u001b[0mkeyfile\u001b[0m\u001b[1;33m=\u001b[0m\u001b[0mself\u001b[0m\u001b[1;33m.\u001b[0m\u001b[0mkey_file\u001b[0m\u001b[1;33m,\u001b[0m\u001b[1;33m\u001b[0m\u001b[1;33m\u001b[0m\u001b[0m\n",
      "\u001b[1;32mD:\\Anaconda\\lib\\site-packages\\urllib3\\util\\ssl_.py\u001b[0m in \u001b[0;36mssl_wrap_socket\u001b[1;34m(sock, keyfile, certfile, cert_reqs, ca_certs, server_hostname, ssl_version, ciphers, ssl_context, ca_cert_dir, key_password, ca_cert_data, tls_in_tls)\u001b[0m\n\u001b[0;32m    379\u001b[0m     \u001b[1;32mif\u001b[0m \u001b[0mca_certs\u001b[0m \u001b[1;32mor\u001b[0m \u001b[0mca_cert_dir\u001b[0m \u001b[1;32mor\u001b[0m \u001b[0mca_cert_data\u001b[0m\u001b[1;33m:\u001b[0m\u001b[1;33m\u001b[0m\u001b[1;33m\u001b[0m\u001b[0m\n\u001b[0;32m    380\u001b[0m         \u001b[1;32mtry\u001b[0m\u001b[1;33m:\u001b[0m\u001b[1;33m\u001b[0m\u001b[1;33m\u001b[0m\u001b[0m\n\u001b[1;32m--> 381\u001b[1;33m             \u001b[0mcontext\u001b[0m\u001b[1;33m.\u001b[0m\u001b[0mload_verify_locations\u001b[0m\u001b[1;33m(\u001b[0m\u001b[0mca_certs\u001b[0m\u001b[1;33m,\u001b[0m \u001b[0mca_cert_dir\u001b[0m\u001b[1;33m,\u001b[0m \u001b[0mca_cert_data\u001b[0m\u001b[1;33m)\u001b[0m\u001b[1;33m\u001b[0m\u001b[1;33m\u001b[0m\u001b[0m\n\u001b[0m\u001b[0;32m    382\u001b[0m         \u001b[1;32mexcept\u001b[0m \u001b[1;33m(\u001b[0m\u001b[0mIOError\u001b[0m\u001b[1;33m,\u001b[0m \u001b[0mOSError\u001b[0m\u001b[1;33m)\u001b[0m \u001b[1;32mas\u001b[0m \u001b[0me\u001b[0m\u001b[1;33m:\u001b[0m\u001b[1;33m\u001b[0m\u001b[1;33m\u001b[0m\u001b[0m\n\u001b[0;32m    383\u001b[0m             \u001b[1;32mraise\u001b[0m \u001b[0mSSLError\u001b[0m\u001b[1;33m(\u001b[0m\u001b[0me\u001b[0m\u001b[1;33m)\u001b[0m\u001b[1;33m\u001b[0m\u001b[1;33m\u001b[0m\u001b[0m\n",
      "\u001b[1;31mKeyboardInterrupt\u001b[0m: "
     ]
    }
   ],
   "source": [
    "import requests, os, bs4\n",
    "url = 'https://xkcd.com' \n",
    "os.makedirs('xkcd', exist_ok=True)\n",
    "while not url.endswith('#'):\n",
    "    print('Downloading page %s...' % url)\n",
    "    res = requests.get(url)\n",
    "    res.raise_for_status()\n",
    "    soup = bs4.BeautifulSoup(res.text)\n",
    "    comicElem = soup.select('https+#comic img')\n",
    "    if comicElem == []:\n",
    "        print('Could not find comic image.')\n",
    "    else:\n",
    "        comicUrl = comicElem[0].get('src')\n",
    "        print('Downloading image %s...' % (comicUrl))\n",
    "        res = requests.get(comicUrl)\n",
    "        res.raise_for_status()\n",
    "        imageFile = open(os.path.join('xkcd', os.path.basename(comicUrl)), 'wb')\n",
    "        for chunk in res.iter_content(100000):\n",
    "            imageFile.write(chunk)\n",
    "        imageFile.close()\n",
    "prevLink = soup.select('a[rel=\"prev\"]')[0]\n",
    "url = 'https://xkcd.com' + prevLink.get('href') \n",
    "print('Done.')"
   ]
  },
  {
   "cell_type": "markdown",
   "id": "0b000a47",
   "metadata": {},
   "source": [
    "# Reading Data From spreadsheet"
   ]
  },
  {
   "cell_type": "code",
   "execution_count": 69,
   "id": "0f8bb846",
   "metadata": {},
   "outputs": [
    {
     "name": "stdout",
     "output_type": "stream",
     "text": [
      "Opening workbook...\n",
      "Reading rows...\n",
      "Writing results...\n",
      "Done.\n"
     ]
    }
   ],
   "source": [
    "import openpyxl, pprint\n",
    "print('Opening workbook...')\n",
    "wb = openpyxl.load_workbook('C:\\\\Users\\\\INDIAN\\\\Downloads\\\\Automate_the_Boring_Stuff_2e_onlinematerials\\\\automate_online-materials\\\\censuspopdata.xlsx')\n",
    "sheet = wb['Population by Census Tract']\n",
    "countyData = {}\n",
    "print('Reading rows...')\n",
    "for row in range(2, sheet.max_row + 1):\n",
    "    state = sheet['B' + str(row)].value\n",
    "    county = sheet['C' + str(row)].value\n",
    "    pop = sheet['D' + str(row)].value\n",
    "    countyData.setdefault(state, {})\n",
    "    countyData[state].setdefault(county, {'tracts': 0, 'pop': 0})\n",
    "    countyData[state][county]['tracts'] += 1\n",
    "    countyData[state][county]['pop'] += int(pop)\n",
    "print('Writing results...')\n",
    "resultFile = open('census2010.py', 'w')\n",
    "resultFile.write('allData = ' + pprint.pformat(countyData))\n",
    "resultFile.close()\n",
    "print('Done.')"
   ]
  },
  {
   "cell_type": "markdown",
   "id": "a421a713",
   "metadata": {},
   "source": [
    "# Updating  A Spreadsheet"
   ]
  },
  {
   "cell_type": "code",
   "execution_count": 72,
   "id": "2b52ead0",
   "metadata": {},
   "outputs": [],
   "source": [
    "import openpyxl\n",
    "wb = openpyxl.load_workbook('C:\\\\Users\\\\INDIAN\\\\Downloads\\\\Automate_the_Boring_Stuff_2e_onlinematerials\\\\automate_online-materials\\\\produceSales.xlsx')\n",
    "sheet = wb['Sheet']\n",
    "PRICE_UPDATES = {'Garlic': 3.07,\n",
    "                 'Celery': 1.19,\n",
    "                 'Lemon': 1.27}\n",
    "for rowNum in range(2, sheet.max_row): \n",
    "    produceName = sheet.cell(row=rowNum, column=1).value\n",
    "    if produceName in PRICE_UPDATES:\n",
    "        sheet.cell(row=rowNum, column=2).value = PRICE_UPDATES[produceName]\n",
    "wb.save('updatedProduceSales.xlsx')\n"
   ]
  },
  {
   "cell_type": "markdown",
   "id": "71202a7e",
   "metadata": {},
   "source": [
    "# Combining Select pages From Many PDF'S"
   ]
  },
  {
   "cell_type": "code",
   "execution_count": 3,
   "id": "745771e2",
   "metadata": {},
   "outputs": [],
   "source": [
    "import PyPDF2, os\n",
    "pdfFiles = []\n",
    "for filename in os.listdir('.'):\n",
    "    if filename.endswith('.pdf'):\n",
    "        pdfFiles.append(filename)\n",
    "pdfFiles.sort(key=str.lower)\n",
    "pdfWriter = PyPDF2.PdfFileWriter()\n",
    "for filename in pdfFiles:\n",
    "    pdfFileObj = open(filename, 'rb')\n",
    "    pdfReader = PyPDF2.PdfFileReader(pdfFileObj)\n",
    "    for pageNum in range(1, pdfReader.numPages):\n",
    "        pageObj = pdfReader.getPage(pageNum)\n",
    "        pdfWriter.addPage(pageObj)\n",
    "pdfOutput = open('allminutes.pdf', 'wb')\n",
    "pdfWriter.write(pdfOutput)\n",
    "pdfOutput.close()"
   ]
  },
  {
   "cell_type": "code",
   "execution_count": 74,
   "id": "fadcdb90",
   "metadata": {},
   "outputs": [
    {
     "name": "stdout",
     "output_type": "stream",
     "text": [
      "Defaulting to user installation because normal site-packages is not writeableNote: you may need to restart the kernel to use updated packages.\n",
      "\n",
      "Collecting PyPDF2\n",
      "  Downloading PyPDF2-1.26.0.tar.gz (77 kB)\n",
      "Building wheels for collected packages: PyPDF2\n",
      "  Building wheel for PyPDF2 (setup.py): started\n",
      "  Building wheel for PyPDF2 (setup.py): finished with status 'done'\n",
      "  Created wheel for PyPDF2: filename=PyPDF2-1.26.0-py3-none-any.whl size=61085 sha256=b5c6a5bf42ddeef6b15aeccd55c51e3bf387be138f44a59716c85db15f4ef875\n",
      "  Stored in directory: c:\\users\\indian\\appdata\\local\\pip\\cache\\wheels\\b1\\1a\\8f\\a4c34be976825a2f7948d0fa40907598d69834f8ab5889de11\n",
      "Successfully built PyPDF2\n",
      "Installing collected packages: PyPDF2\n",
      "Successfully installed PyPDF2-1.26.0\n"
     ]
    }
   ],
   "source": [
    "pip install PyPDF2"
   ]
  },
  {
   "cell_type": "markdown",
   "id": "cc04a567",
   "metadata": {},
   "source": [
    "# Removing the Header From CSV Files"
   ]
  },
  {
   "cell_type": "code",
   "execution_count": 4,
   "id": "1cea3a04",
   "metadata": {},
   "outputs": [],
   "source": [
    "import csv, os\n",
    "os.makedirs('headerRemoved', exist_ok=True)\n",
    "for csvFilename in os.listdir('.'):\n",
    "    if not csvFilename.endswith('.csv'):\n",
    "        continue\n",
    "    print('Removing header from ' + csvFilename + '...')\n",
    "    csvRows = []\n",
    "    csvFileObj = open(csvFilename)\n",
    "    readerObj = csv.reader(csvFileObj)\n",
    "    for row in readerObj:\n",
    "        if readerObj.line_num == 1:\n",
    "            continue \n",
    "        csvRows.append(row)\n",
    "    csvFileObj.close()\n",
    "    csvFileObj = open(os.path.join('headerRemoved', csvFilename), 'w',newline='')\n",
    "    csvWriter = csv.writer(csvFileObj)\n",
    "    for row in csvRows:\n",
    "        csvWriter.writerow(row)\n",
    "        csvFileObj.close()"
   ]
  },
  {
   "cell_type": "markdown",
   "id": "9de848ac",
   "metadata": {},
   "source": [
    "# Fetching Current Weather Data"
   ]
  },
  {
   "cell_type": "code",
   "execution_count": null,
   "id": "1280ce27",
   "metadata": {},
   "outputs": [],
   "source": [
    "import json, requests, sys\n",
    "if len(sys.argv) < 2:\n",
    "    print('Usage: quickWeather.py location')\n",
    "    sys.exit()\n",
    "location = ' '.join(sys.argv[1:])\n",
    "url ='https://api.openweathermap.org/data/2.5/weather?lat={12}&lon={77}&appid={8694fe6f7a1023329d461b94d6d1f0fc}'\n",
    "response = requests.get(url)\n",
    "response.raise_for_status()\n",
    "weatherData = json.loads(response.text)\n",
    "w = weatherData['list']\n",
    "print('Current weather in %s:' % (location))\n",
    "print(w[0]['weather'][0]['main'], '-', w[0]['weather'][0]['description'])\n",
    "print()\n",
    "print('Tomorrow:')\n",
    "print(w[1]['weather'][0]['main'], '-', w[1]['weather'][0]['description'])\n",
    "print()\n",
    "print('Day after tomorrow:')\n",
    "print(w[2]['weather'][0]['main'], '-', w[2]['weather'][0]['description'])"
   ]
  },
  {
   "cell_type": "code",
   "execution_count": null,
   "id": "bccc0845",
   "metadata": {},
   "outputs": [],
   "source": []
  }
 ],
 "metadata": {
  "kernelspec": {
   "display_name": "Python 3",
   "language": "python",
   "name": "python3"
  },
  "language_info": {
   "codemirror_mode": {
    "name": "ipython",
    "version": 3
   },
   "file_extension": ".py",
   "mimetype": "text/x-python",
   "name": "python",
   "nbconvert_exporter": "python",
   "pygments_lexer": "ipython3",
   "version": "3.8.8"
  }
 },
 "nbformat": 4,
 "nbformat_minor": 5
}
